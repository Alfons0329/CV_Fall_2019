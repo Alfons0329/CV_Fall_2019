{
 "cells": [
  {
   "cell_type": "code",
   "execution_count": 4,
   "metadata": {
    "scrolled": true
   },
   "outputs": [
    {
     "ename": "IndentationError",
     "evalue": "expected an indented block (<ipython-input-4-2ea2137c05da>, line 43)",
     "output_type": "error",
     "traceback": [
      "\u001b[0;36m  File \u001b[0;32m\"<ipython-input-4-2ea2137c05da>\"\u001b[0;36m, line \u001b[0;32m43\u001b[0m\n\u001b[0;31m    return 0\u001b[0m\n\u001b[0m    ^\u001b[0m\n\u001b[0;31mIndentationError\u001b[0m\u001b[0;31m:\u001b[0m expected an indented block\n"
     ]
    }
   ],
   "source": [
    "import cv2\n",
    "import math, sys\n",
    "import matplotlib.pyplot as plt\n",
    "\n",
    "'''\n",
    "savefig sould be done before show\n",
    "see: https://blog.csdn.net/u010099080/article/details/52912439\n",
    "'''\n",
    "def img_hist(img_in):\n",
    "    hist = []\n",
    "    for i in range(256):\n",
    "        hist.append(0)\n",
    "    \n",
    "    row, col= img_in.shape\n",
    "    for i in range(0, row):\n",
    "        for j in range(0, col):\n",
    "            hist[img_in[i, j]] += 1\n",
    "    \n",
    "    plt.bar(range(0, 256), hist)\n",
    "    plt.savefig('histogram.png') \n",
    "    plt.show()\n",
    "    return 0\n",
    "\n",
    "def img_binarize(img_in):\n",
    "    return (img_in > 0x7f) * 0xff\n",
    "\n",
    "def connected_components(img_in):\n",
    "    disjoint_set =[[]]\n",
    "    \n",
    "    img_padded = cv2.copyMakeBorder(img_in, 1, 1, 1, 1, cv2.BORDER_CONSTANT, value = 0) # padding img with 0 \n",
    "    # 1st checking\n",
    "    img_padded = (img_padded > 0x7f) * 1\n",
    "    plt.imshow(img_padded, cmap = 'gray')\n",
    "    row, col = img_padded.shape\n",
    "    \n",
    "    # 1st checking\n",
    "    labeling_index = 1\n",
    "    for i in range(0, row):\n",
    "        for j in range(0, col):\n",
    "            # check left\n",
    "            \n",
    "            # check up\n",
    "            \n",
    "            # check self\n",
    "            \n",
    "             \n",
    "    return 0\n",
    "\n",
    "img = cv2.imread('lena.bmp', 0)\n",
    "img_binarized = img_binarize(img)\n",
    "plt.imshow(img_binarized, cmap = 'gray')\n",
    "plt.savefig('lena_binarized.png', cmap = 'gray')\n",
    "plt.show()\n",
    "\n",
    "plt.clf()\n",
    "img_hist(img)\n",
    "\n",
    "connected_components(img_binarized)"
   ]
  },
  {
   "cell_type": "code",
   "execution_count": null,
   "metadata": {
    "scrolled": true
   },
   "outputs": [],
   "source": []
  }
 ],
 "metadata": {
  "kernelspec": {
   "display_name": "Python 3",
   "language": "python",
   "name": "python3"
  },
  "language_info": {
   "codemirror_mode": {
    "name": "ipython",
    "version": 3
   },
   "file_extension": ".py",
   "mimetype": "text/x-python",
   "name": "python",
   "nbconvert_exporter": "python",
   "pygments_lexer": "ipython3",
   "version": "3.6.7"
  }
 },
 "nbformat": 4,
 "nbformat_minor": 2
}
