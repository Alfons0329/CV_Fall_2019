{
 "cells": [
  {
   "cell_type": "code",
   "execution_count": 5,
   "metadata": {
    "scrolled": true
   },
   "outputs": [
    {
     "data": {
      "image/png": "[encoded data removed]",
      "text/plain": [
       "<Figure size 432x288 with 1 Axes>"
      ]
     },
     "metadata": {
      "needs_background": "light"
     },
     "output_type": "display_data"
    },
    {
     "data": {
      "image/png": "[encoded data removed]",
      "text/plain": [
       "<Figure size 432x288 with 1 Axes>"
      ]
     },
     "metadata": {
      "needs_background": "light"
     },
     "output_type": "display_data"
    },
    {
     "data": {
      "image/png": "[encoded data removed]",
      "text/plain": [
       "<Figure size 432x288 with 1 Axes>"
      ]
     },
     "metadata": {
      "needs_background": "light"
     },
     "output_type": "display_data"
    },
    {
     "name": "stdout",
     "output_type": "stream",
     "text": [
      "\n",
      "11100111\n",
      "01110111\n",
      "01110111\n",
      "01110111\n",
      "01111111\n",
      "11000111\n",
      "00000111\n",
      "000111110 3 type 3,0 4 type 1,\n",
      "1 0 type 3,1 4 type 2,\n",
      "2 0 type 2,2 4 type 2,\n",
      "3 0 type 2,3 4 type 2,\n",
      "4 0 type 2,\n",
      "5 2 type 3,5 3 type 1,5 4 type 1,\n",
      "6 0 type 3,6 1 type 1,6 2 type 1,6 2 type 2,6 3 type 1,6 3 type 2,6 4 type 1,6 4 type 2,\n",
      "7 0 type 2,7 1 type 1,7 1 type 2,7 2 type 1,7 2 type 2,\n",
      "\n",
      "11122111\n",
      "31112111\n",
      "31112111\n",
      "31112111\n",
      "31111111\n",
      "11444111\n",
      "55555111\n",
      "55511111\n",
      "2 par--> 2,2 par--> 2,\n",
      "3 par--> 3,2 par--> 2,\n",
      "3 par--> 3,2 par--> 2,\n",
      "3 par--> 3,2 par--> 2,\n",
      "3 par--> 3,\n",
      "4 par--> 4,4 par--> 4,4 par--> 4,\n",
      "5 par--> 4,5 par--> 4,5 par--> 4,5 par--> 4,5 par--> 4,\n",
      "5 par--> 4,5 par--> 4,5 par--> 4,\n",
      "11122111\n",
      "31112111\n",
      "31112111\n",
      "31112111\n",
      "31111111\n",
      "11444111\n",
      "44444111\n",
      "44411111finished all image processing\n"
     ]
    },
    {
     "data": {
      "image/png": "[encoded data removed]",
      "text/plain": [
       "<Figure size 432x288 with 1 Axes>"
      ]
     },
     "metadata": {
      "needs_background": "light"
     },
     "output_type": "display_data"
    }
   ],
   "source": [
    "import cv2\n",
    "import math, sys\n",
    "import matplotlib.pyplot as plt\n",
    "\n",
    "'''\n",
    "savefig sould be done before show\n",
    "see: https://blog.csdn.net/u010099080/article/details/52912439\n",
    "'''\n",
    "\n",
    "sys.setrecursionlimit(1000000)\n",
    "\n",
    "####### hist part ########\n",
    "def img_hist(img_in):    \n",
    "    hist = []\n",
    "    for i in range(256):\n",
    "        hist.append(0)\n",
    "    \n",
    "    row, col= img_in.shape\n",
    "    for i in range(0, row):\n",
    "        for j in range(0, col):\n",
    "            hist[img_in[i, j]] += 1\n",
    "    \n",
    "    plt.bar(range(0, 256), hist)\n",
    "    plt.savefig('histogram.png') \n",
    "    plt.show()\n",
    "    return 0\n",
    "\n",
    "####### binarize part ######\n",
    "def img_binarize(img_in):\n",
    "    return (img_in > 0x7f) * 0xff\n",
    "\n",
    "########## IO ##############\n",
    "img = cv2.imread('lena_2.bmp', 0)\n",
    "plt.imshow(img, cmap = 'gray')\n",
    "plt.show()\n",
    "\n",
    "img_binarized = img_binarize(img)\n",
    "plt.imshow(img_binarized, cmap = 'gray')\n",
    "plt.savefig('lena_binarized.png', cmap = 'gray')\n",
    "plt.show()\n",
    "\n",
    "img_hist(img)\n",
    "\n",
    "######### CC part ##########\n",
    "cc_img = (img_binarized == 0xff) * 1\n",
    "parent_label = []\n",
    "\n",
    "def union_find(label):\n",
    "    original_label = label\n",
    "    while label != parent_label[label]:\n",
    "        label = parent_label[parent_label[label]]\n",
    "        \n",
    "    parent_label[original_label] = label # path compression to avoid TLE\n",
    "    return label\n",
    "            \n",
    "def connected_components():\n",
    "    # set parent label\n",
    "    plt.imshow(cc_img, cmap = 'gray')\n",
    "    row, col = cc_img.shape\n",
    "    for i in range(row * col):\n",
    "        parent_label.append(i)\n",
    "\n",
    "    \n",
    "    for i in range(row):\n",
    "        print()\n",
    "        for j in range(col):\n",
    "            print(cc_img[i, j], end = '')\n",
    "        \n",
    "    \n",
    "    # do connected components\n",
    "    label = 2\n",
    "    for i in range(row):\n",
    "        for j in range(col):\n",
    "            ok1 = 0\n",
    "            ok2 = 0\n",
    "            if cc_img[i, j] == 0:\n",
    "                if j - 1 >= 0 and cc_img[i, j - 1] > 1: # left has already labeled\n",
    "                    print(i, j, 'type 1,', end = '')\n",
    "                    cc_img[i, j] = cc_img[i, j - 1]\n",
    "                    ok1 = 1\n",
    "                    \n",
    "                if i - 1 >= 0 and cc_img[i - 1, j] > 1: # up has already labeled\n",
    "                    print(i, j, 'type 2,', end = '')\n",
    "                    if ok1: # set the connected component to make left = up\n",
    "                        parent_label[cc_img[i, j]] = parent_label[cc_img[i - 1, j]]\n",
    "                    else:\n",
    "                        cc_img[i, j] = cc_img[i - 1, j] # just set as the same label as above\n",
    "                    \n",
    "                    ok2 = 1\n",
    "                if ok2 == 0 and ok1 == 0:\n",
    "                    print(i, j, 'type 3,', end = '')\n",
    "                    cc_img[i, j] = label\n",
    "                    label += 1\n",
    "        print()\n",
    "                \n",
    "    for i in range(row):\n",
    "        print()\n",
    "        for j in range(col):\n",
    "            print(cc_img[i, j], end = '')\n",
    "        \n",
    "    \n",
    "    # union and find merging\n",
    "    for i in range(row):\n",
    "        print()\n",
    "        for j in range(col):\n",
    "            if cc_img[i, j] > 1:\n",
    "                print('%d par--> %d,' %(cc_img[i, j], union_find(cc_img[i, j])), end = '')\n",
    "                cc_img[i, j] = union_find(cc_img[i, j])\n",
    "        \n",
    "                \n",
    "    for i in range(row):\n",
    "        print()\n",
    "        for j in range(col):\n",
    "            print(cc_img[i, j], end = '')\n",
    "        \n",
    "    mymap = []\n",
    "    for i in range(0, row * col):\n",
    "        mymap.append(0)\n",
    "        \n",
    "    for i in range(0, row):\n",
    "        for j in range(0, col):\n",
    "            mymap[cc_img[i, j]] += 1\n",
    "    \n",
    "    #print(mymap)\n",
    "    return 0\n",
    "\n",
    "connected_components()\n",
    "print('finished all image processing')"
   ]
  },
  {
   "cell_type": "code",
   "execution_count": null,
   "metadata": {
    "scrolled": true
   },
   "outputs": [],
   "source": []
  }
 ],
 "metadata": {
  "kernelspec": {
   "display_name": "Python 3",
   "language": "python",
   "name": "python3"
  },
  "language_info": {
   "codemirror_mode": {
    "name": "ipython",
    "version": 3
   },
   "file_extension": ".py",
   "mimetype": "text/x-python",
   "name": "python",
   "nbconvert_exporter": "python",
   "pygments_lexer": "ipython3",
   "version": "3.6.7"
  }
 },
 "nbformat": 4,
 "nbformat_minor": 2
}
