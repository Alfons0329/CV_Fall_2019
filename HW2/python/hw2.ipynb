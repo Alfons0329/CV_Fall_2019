{
 "cells": [
  {
   "cell_type": "code",
   "execution_count": 3,
   "metadata": {
    "scrolled": true
   },
   "outputs": [
    {
     "data": {
      "image/png": "[encoded data removed]",
      "text/plain": [
       "<Figure size 432x288 with 1 Axes>"
      ]
     },
     "metadata": {
      "needs_background": "light"
     },
     "output_type": "display_data"
    },
    {
     "data": {
      "image/png": "[encoded data removed]",
      "text/plain": [
       "<Figure size 432x288 with 1 Axes>"
      ]
     },
     "metadata": {
      "needs_background": "light"
     },
     "output_type": "display_data"
    }
   ],
   "source": [
    "import cv2\n",
    "import math, sys\n",
    "import matplotlib.pyplot as plt\n",
    "\n",
    "'''\n",
    "savefig sould be done before show\n",
    "see: https://blog.csdn.net/u010099080/article/details/52912439\n",
    "'''\n",
    "\n",
    "sys.setrecursionlimit(1000000)\n",
    "\n",
    "####### hist part ########\n",
    "def img_hist(img_in):\n",
    "    hist = []\n",
    "    for i in range(256):\n",
    "        hist.append(0)\n",
    "    \n",
    "    row, col= img_in.shape\n",
    "    for i in range(0, row):\n",
    "        for j in range(0, col):\n",
    "            hist[img_in[i, j]] += 1\n",
    "    \n",
    "    plt.bar(range(0, 256), hist)\n",
    "    plt.savefig('histogram.png') \n",
    "    plt.show()\n",
    "    return 0\n",
    "\n",
    "####### binarize part ######\n",
    "def img_binarize(img_in):\n",
    "    return (img_in > 0x7f) * 0xff\n",
    "\n",
    "########## IO ##############\n",
    "img = cv2.imread('lena.bmp', 0)\n",
    "img_binarized = img_binarize(img)\n",
    "plt.imshow(img_binarized, cmap = 'gray')\n",
    "plt.savefig('lena_binarized.png', cmap = 'gray')\n",
    "plt.show()\n",
    "\n",
    "img_hist(img)\n",
    "\n",
    "######### CC part ##########\n",
    "cc_img = (img_binarized == 0xff) * 1\n",
    "parent_label = []\n",
    "\n",
    "def union_find(label):\n",
    "    original_label = label\n",
    "    while label != parent_label[label]:\n",
    "        label = parent_label[parent_label[label]]\n",
    "        \n",
    "    return label[original_label] = label\n",
    "            \n",
    "def connected_components():\n",
    "    # set parent label\n",
    "    \n",
    "    plt.imshow(cc_img, cmap = 'gray')\n",
    "    row, col = cc_img.shape\n",
    "    for i in range(row * col):\n",
    "        parent_label.append(i)\n",
    "\n",
    "    label = 2\n",
    "    for i in range(row):\n",
    "        for j in range(col):   \n",
    "            if j - 1 > 0 and cc_img[i, j - 1] > 1: # left has already labeled\n",
    "            \n",
    "    mymap = []\n",
    "    for i in range(0, row * col):\n",
    "        mymap.append(0)\n",
    "        \n",
    "    for i in range(0, row):\n",
    "        for j in range(0, col):\n",
    "            mymap[cc_img[i, j]] += 1\n",
    "    \n",
    "    #print(mymap)\n",
    "    return 0\n",
    "\n",
    "#connected_components()\n",
    "#print('finished all image processing')"
   ]
  },
  {
   "cell_type": "code",
   "execution_count": null,
   "metadata": {
    "scrolled": true
   },
   "outputs": [],
   "source": []
  }
 ],
 "metadata": {
  "kernelspec": {
   "display_name": "Python 3",
   "language": "python",
   "name": "python3"
  },
  "language_info": {
   "codemirror_mode": {
    "name": "ipython",
    "version": 3
   },
   "file_extension": ".py",
   "mimetype": "text/x-python",
   "name": "python",
   "nbconvert_exporter": "python",
   "pygments_lexer": "ipython3",
   "version": "3.6.7"
  }
 },
 "nbformat": 4,
 "nbformat_minor": 2
}
