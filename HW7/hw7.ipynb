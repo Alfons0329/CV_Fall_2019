{
 "cells": [
  {
   "cell_type": "code",
   "execution_count": 10,
   "metadata": {},
   "outputs": [
    {
     "name": "stdout",
     "output_type": "stream",
     "text": [
      "Same ID!\n",
      "Same ID!\n",
      "Same ID!\n",
      "Same ID!\n",
      "Same ID!\n",
      "Same ID!\n",
      "Same ID!\n",
      "Same ID!\n"
     ]
    },
    {
     "data": {
      "image/png": "[encoded data removed]",
      "text/plain": [
       "<Figure size 432x288 with 1 Axes>"
      ]
     },
     "metadata": {
      "needs_background": "light"
     },
     "output_type": "display_data"
    }
   ],
   "source": [
    "import cv2\n",
    "import math, sys\n",
    "import matplotlib.pyplot as plt\n",
    "import numpy as np\n",
    "\n",
    "from utils import *\n",
    "\n",
    "####### IO ############\n",
    "img = cv2.imread('lena.bmp', cv2.IMREAD_GRAYSCALE)\n",
    "\n",
    "#### thinning core ####\n",
    "def do_thinnig():\n",
    "    img_bin = img_binarize(img)\n",
    "    \n",
    "    row, col = (img_bin.shape)\n",
    "    row, col = row // 8, col // 8\n",
    "    res_final = np.zeros((row, col), np.int)\n",
    "    \n",
    "    for i in range(row):\n",
    "        for j in range(col):\n",
    "            res_final[i, j] = img_bin[8 * i, 8* j]\n",
    "    \n",
    "    while True:\n",
    "        # use numpy copy to prevent from changing to same memory block\n",
    "        \n",
    "        res_old = res_final\n",
    "        if id(res_old) == id(res_final):\n",
    "            print('Same ID!')\n",
    "            res_old = np.copy(res_final)\n",
    "        \n",
    "        '''\n",
    "        Step1\n",
    "        input : original symbolic image \n",
    "        marked-interior/border-pixel operator\n",
    "        \n",
    "        output : interior/border image\n",
    "        '''\n",
    "        res_ib = do_ib(res_final)\n",
    "        \n",
    "        '''\n",
    "        Step2\n",
    "        input : interior/border image\n",
    "        pair relationship operator\n",
    "        output : marked image\n",
    "        '''\n",
    "        res_mp = do_mp(res_ib)\n",
    "        \n",
    "        '''\n",
    "        Step3\n",
    "        input : original symbolic image +marked image\n",
    "        marked-pixel connected shrink operator\n",
    "        removable(by connected shrink operator on original symbolic image)\n",
    "        marked(by marked image)\n",
    "        delete those pixels satisfied the two conditions mentioned above\n",
    "        \n",
    "        output : thinned output image\n",
    "        '''\n",
    "        res_yokoi = do_yokoi(res_final)\n",
    "        res_to_delete = (res_yokoi == 1) * 1\n",
    "        \n",
    "        for i in range(row):\n",
    "            for j in range(col):\n",
    "                if res_to_delete[i, j] == 1 and res_mp[i, j] == 1:\n",
    "                    res_final[i, j] = 0\n",
    "        \n",
    "        '''\n",
    "        compare the currently thinned image with the old one\n",
    "        break if has not been changed since last iteration\n",
    "        '''\n",
    "        \n",
    "        if np.sum(res_old == res_final) == row * col:\n",
    "            break\n",
    "    \n",
    "    plt.imshow(res_final, cmap = 'gray')\n",
    "    plt.show()\n",
    "    cv2.imwrite('lena_thinned.png', res_final)\n",
    "\n",
    "do_thinnig()"
   ]
  }
 ],
 "metadata": {
  "kernelspec": {
   "display_name": "Python 3",
   "language": "python",
   "name": "python3"
  },
  "language_info": {
   "codemirror_mode": {
    "name": "ipython",
    "version": 3
   },
   "file_extension": ".py",
   "mimetype": "text/x-python",
   "name": "python",
   "nbconvert_exporter": "python",
   "pygments_lexer": "ipython3",
   "version": "3.6.7"
  }
 },
 "nbformat": 4,
 "nbformat_minor": 2
}
