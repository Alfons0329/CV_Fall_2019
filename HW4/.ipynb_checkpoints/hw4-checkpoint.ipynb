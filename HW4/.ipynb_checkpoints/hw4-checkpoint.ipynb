{
 "cells": [
  {
   "cell_type": "code",
   "execution_count": 36,
   "metadata": {},
   "outputs": [
    {
     "name": "stdout",
     "output_type": "stream",
     "text": [
      "[[0 1 1 1 0]\n",
      " [1 1 1 1 1]\n",
      " [1 1 1 1 1]\n",
      " [1 1 1 1 1]\n",
      " [0 1 1 1 0]]\n",
      "binzrized lena\n"
     ]
    },
    {
     "data": {
      "image/png": "[encoded data removed]",
      "text/plain": [
       "<Figure size 432x288 with 1 Axes>"
      ]
     },
     "metadata": {
      "needs_background": "light"
     },
     "output_type": "display_data"
    },
    {
     "name": "stdout",
     "output_type": "stream",
     "text": [
      "lena dialation\n"
     ]
    },
    {
     "data": {
      "image/png": "[encoded data removed]",
      "text/plain": [
       "<Figure size 432x288 with 1 Axes>"
      ]
     },
     "metadata": {
      "needs_background": "light"
     },
     "output_type": "display_data"
    }
   ],
   "source": [
    "#!/usr/bin/env python\n",
    "# coding: utf-8\n",
    "# NTU CSIE, Computer Vision HW2, R08922024, Alfons Hwu\n",
    "\n",
    "import cv2\n",
    "import math, sys\n",
    "import matplotlib.pyplot as plt\n",
    "import numpy as np\n",
    "\n",
    "####### IO ############\n",
    "img = cv2.imread('lena.bmp', cv2.IMREAD_GRAYSCALE)\n",
    "kernel = np.array(\n",
    "    [[0, 1, 1, 1, 0], \n",
    "     [1, 1, 1, 1, 1], \n",
    "     [1, 1, 1, 1, 1], \n",
    "     [1, 1, 1, 1, 1], \n",
    "     [0, 1, 1, 1, 0]]\n",
    "    )\n",
    "####### binarize ######\n",
    "def img_binarize(img_in):\n",
    "    return (img_in > 0x7f) * 0xff\n",
    "\n",
    "img_bin = img_binarize(img)\n",
    "####### binarize ######\n",
    "def dilation(a, b):\n",
    "    ra, ca = a.shape # original image\n",
    "    rb, cb = b.shape # kernel\n",
    "    res = np.zeros(a.shape, dtype = 'uint8') \n",
    "    plt.clf()\n",
    "    print('binzrized lena')\n",
    "    plt.imshow(a, cmap = 'gray')\n",
    "    plt.show()\n",
    "    \n",
    "    for ai in range(ra):\n",
    "        for aj in range(ca):\n",
    "            if a[ai, aj] == 0xff:\n",
    "                \n",
    "                # assign original image position\n",
    "                res[ai, aj] = 0xff\n",
    "                for bi in range(rb):\n",
    "                    for bj in range(cb):\n",
    "                        # dialiation\n",
    "                        if b[bi, bj] and ai + bi < ra and aj + bj < ca:\n",
    "                            \n",
    "                            # extend the value\n",
    "                            res[ai + bi, aj + bj] = 0xff \n",
    "                        \n",
    "    return res \n",
    "\n",
    "print(kernel)\n",
    "img_dilated = dilation(img_bin, kernel)\n",
    "print('lena dialation')\n",
    "plt.imshow(img_dilated, cmap = 'gray')\n",
    "plt.savefig('lena_dialated', cmap = 'gray', dpi = 150)\n",
    "cv2.imwrite('lena_dialated_cv.png', img_dilated)\n",
    "plt.show()\n"
   ]
  }
 ],
 "metadata": {
  "kernelspec": {
   "display_name": "Python 3",
   "language": "python",
   "name": "python3"
  },
  "language_info": {
   "codemirror_mode": {
    "name": "ipython",
    "version": 3
   },
   "file_extension": ".py",
   "mimetype": "text/x-python",
   "name": "python",
   "nbconvert_exporter": "python",
   "pygments_lexer": "ipython3",
   "version": "3.6.7"
  }
 },
 "nbformat": 4,
 "nbformat_minor": 2
}
